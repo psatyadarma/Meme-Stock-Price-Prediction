{
  "nbformat": 4,
  "nbformat_minor": 0,
  "metadata": {
    "colab": {
      "name": "Twitter.ipynb",
      "provenance": [],
      "collapsed_sections": []
    },
    "kernelspec": {
      "name": "python3",
      "display_name": "Python 3"
    },
    "language_info": {
      "name": "python"
    }
  },
  "cells": [
    {
      "cell_type": "markdown",
      "metadata": {
        "id": "kDaDh7oHH0h5"
      },
      "source": [
        "https://medium.com/dataseries/how-to-scrape-millions-of-tweets-using-snscrape-195ee3594721"
      ]
    },
    {
      "cell_type": "code",
      "metadata": {
        "colab": {
          "base_uri": "https://localhost:8080/"
        },
        "id": "1LqzPzihBmmf",
        "outputId": "09a91424-2400-4621-ed20-7e4dfe447db3"
      },
      "source": [
        "pip install snscrape"
      ],
      "execution_count": null,
      "outputs": [
        {
          "output_type": "stream",
          "name": "stdout",
          "text": [
            "Collecting snscrape\n",
            "  Downloading snscrape-0.3.4-py3-none-any.whl (35 kB)\n",
            "Requirement already satisfied: beautifulsoup4 in /usr/local/lib/python3.7/dist-packages (from snscrape) (4.6.3)\n",
            "Requirement already satisfied: lxml in /usr/local/lib/python3.7/dist-packages (from snscrape) (4.2.6)\n",
            "Requirement already satisfied: requests[socks] in /usr/local/lib/python3.7/dist-packages (from snscrape) (2.23.0)\n",
            "Requirement already satisfied: chardet<4,>=3.0.2 in /usr/local/lib/python3.7/dist-packages (from requests[socks]->snscrape) (3.0.4)\n",
            "Requirement already satisfied: certifi>=2017.4.17 in /usr/local/lib/python3.7/dist-packages (from requests[socks]->snscrape) (2021.5.30)\n",
            "Requirement already satisfied: urllib3!=1.25.0,!=1.25.1,<1.26,>=1.21.1 in /usr/local/lib/python3.7/dist-packages (from requests[socks]->snscrape) (1.24.3)\n",
            "Requirement already satisfied: idna<3,>=2.5 in /usr/local/lib/python3.7/dist-packages (from requests[socks]->snscrape) (2.10)\n",
            "Requirement already satisfied: PySocks!=1.5.7,>=1.5.6 in /usr/local/lib/python3.7/dist-packages (from requests[socks]->snscrape) (1.7.1)\n",
            "Installing collected packages: snscrape\n",
            "Successfully installed snscrape-0.3.4\n"
          ]
        }
      ]
    },
    {
      "cell_type": "code",
      "metadata": {
        "id": "Tpe190zgBZLk"
      },
      "source": [
        "import pandas as pd\n",
        "import snscrape.modules.twitter as sntwitter\n",
        "import itertools\n",
        "import time"
      ],
      "execution_count": null,
      "outputs": []
    },
    {
      "cell_type": "code",
      "metadata": {
        "id": "F4ntEov9FjgQ"
      },
      "source": [
        "def search_by_keywords(keyword, start, end, tweet_limit):\n",
        "    '''\n",
        "    This is to search for tweets based on keywords, with location preset to Singapore. \n",
        "    Keywords: can be string or list \n",
        "    Date format: YYYY-MM-DD\n",
        "    '''\n",
        "    start_time = time.time()\n",
        "    scraped_tweets = sntwitter.TwitterSearchScraper(f'{keyword} since:{start} until:{end}').get_items()\n",
        "    sliced_scraped_tweets = itertools.islice(scraped_tweets, tweet_limit)\n",
        "    tweets_df = pd.DataFrame(sliced_scraped_tweets) #[['date', 'content']]\n",
        "\n",
        "    print('Time taken to run to scrape {} tweets: {}s'.format(len(tweets_df), time.time() - start_time))\n",
        "    return tweets_df\n",
        "\n",
        "\n",
        "#tweets_df = search_by_keywords('$GME', '2021-08-01', '2021-09-10', 2000)\n",
        "\n"
      ],
      "execution_count": null,
      "outputs": []
    },
    {
      "cell_type": "code",
      "metadata": {
        "colab": {
          "base_uri": "https://localhost:8080/"
        },
        "id": "6zr7jHbpF83R",
        "outputId": "8995d472-1820-4b6a-fe60-cdf6c99524d1"
      },
      "source": [
        "tweets_df['date']"
      ],
      "execution_count": null,
      "outputs": [
        {
          "output_type": "execute_result",
          "data": {
            "text/plain": [
              "0      2021-09-09 23:59:03+00:00\n",
              "1      2021-09-09 23:58:36+00:00\n",
              "2      2021-09-09 23:58:19+00:00\n",
              "3      2021-09-09 23:57:34+00:00\n",
              "4      2021-09-09 23:57:03+00:00\n",
              "                  ...           \n",
              "1995   2021-09-09 14:44:55+00:00\n",
              "1996   2021-09-09 14:44:32+00:00\n",
              "1997   2021-09-09 14:44:11+00:00\n",
              "1998   2021-09-09 14:43:43+00:00\n",
              "1999   2021-09-09 14:43:40+00:00\n",
              "Name: date, Length: 2000, dtype: datetime64[ns, UTC]"
            ]
          },
          "metadata": {},
          "execution_count": 4
        }
      ]
    },
    {
      "cell_type": "markdown",
      "metadata": {
        "id": "OvaBHQnEI7LW"
      },
      "source": [
        "Issue with above:\n",
        "It scrapes all the tweets within that date range and returns N tweets out of that pool. This results in all of the 2000 tweets falling in only 2 days. \n",
        "\n",
        "To do:\n",
        "Construct for loop to scrape N tweets everyday and save everything into a df\n",
        "\n",
        "Repeat the process above for different tickers "
      ]
    },
    {
      "cell_type": "code",
      "metadata": {
        "colab": {
          "base_uri": "https://localhost:8080/"
        },
        "id": "qFwOtOadIiKW",
        "outputId": "edb67dff-9e98-416d-98b4-d311d6a1afa4"
      },
      "source": [
        "dt.datetime(2021,9,1)"
      ],
      "execution_count": null,
      "outputs": [
        {
          "output_type": "execute_result",
          "data": {
            "text/plain": [
              "datetime.datetime(2021, 9, 1, 0, 0)"
            ]
          },
          "metadata": {},
          "execution_count": 27
        }
      ]
    },
    {
      "cell_type": "code",
      "metadata": {
        "colab": {
          "base_uri": "https://localhost:8080/"
        },
        "id": "YTtgfQN0GA9u",
        "outputId": "f12a1308-55b3-4bec-db8a-429057f767c8"
      },
      "source": [
        "tweets_df['content']"
      ],
      "execution_count": null,
      "outputs": [
        {
          "output_type": "execute_result",
          "data": {
            "text/plain": [
              "0    @StevenACohen2 Le retarded family \\nAny plans ...\n",
              "1    @bigdeckbandit That said though, I am tremendo...\n",
              "2    Well damn that week was not the standard patte...\n",
              "3    How are markets changing after meme stocks lik...\n",
              "4    Covid19 #Mandate Biotech Stocks \\n\\n$JNJ $AZN ...\n",
              "5    Joe Biden Can No Longer Hide From Cannabis Leg...\n",
              "6    @Sunny_D_1083 @ComicsApex @Sithfaced247 I own ...\n",
              "7    Explaining A Gamma Squeeze In Layman’s Terms\\n...\n",
              "8    @ComicsApex @Sithfaced247 We all got/getting p...\n",
              "9    Premiere starts in 17 minutes\\n\\nAMC Short Squ...\n",
              "Name: content, dtype: object"
            ]
          },
          "metadata": {},
          "execution_count": 15
        }
      ]
    },
    {
      "cell_type": "code",
      "metadata": {
        "colab": {
          "base_uri": "https://localhost:8080/"
        },
        "id": "XLFas7k0ZrZd",
        "outputId": "ab59a536-1685-47a2-a553-702b4171f2de"
      },
      "source": [
        "tweets_df = search_by_keywords('$GME', '2021-08-01', '2021-09-11', 2000)"
      ],
      "execution_count": null,
      "outputs": [
        {
          "output_type": "stream",
          "name": "stdout",
          "text": [
            "Time taken to run to scrape 2000 tweets: 35.14831328392029s\n"
          ]
        }
      ]
    },
    {
      "cell_type": "code",
      "metadata": {
        "colab": {
          "base_uri": "https://localhost:8080/",
          "height": 759
        },
        "id": "rYPrChWQZteK",
        "outputId": "c5049b5a-b179-4bd8-a793-f666834e4f98"
      },
      "source": [
        "tweets_df"
      ],
      "execution_count": null,
      "outputs": [
        {
          "output_type": "execute_result",
          "data": {
            "text/html": [
              "<div>\n",
              "<style scoped>\n",
              "    .dataframe tbody tr th:only-of-type {\n",
              "        vertical-align: middle;\n",
              "    }\n",
              "\n",
              "    .dataframe tbody tr th {\n",
              "        vertical-align: top;\n",
              "    }\n",
              "\n",
              "    .dataframe thead th {\n",
              "        text-align: right;\n",
              "    }\n",
              "</style>\n",
              "<table border=\"1\" class=\"dataframe\">\n",
              "  <thead>\n",
              "    <tr style=\"text-align: right;\">\n",
              "      <th></th>\n",
              "      <th>url</th>\n",
              "      <th>date</th>\n",
              "      <th>content</th>\n",
              "      <th>id</th>\n",
              "      <th>username</th>\n",
              "      <th>outlinks</th>\n",
              "      <th>outlinksss</th>\n",
              "      <th>tcooutlinks</th>\n",
              "      <th>tcooutlinksss</th>\n",
              "    </tr>\n",
              "  </thead>\n",
              "  <tbody>\n",
              "    <tr>\n",
              "      <th>0</th>\n",
              "      <td>https://twitter.com/Oy11462180/status/14364795...</td>\n",
              "      <td>2021-09-10 23:59:41+00:00</td>\n",
              "      <td>@StevenACohen2 Le retarded family \\nAny plans ...</td>\n",
              "      <td>1436479522505953303</td>\n",
              "      <td>Oy11462180</td>\n",
              "      <td>[]</td>\n",
              "      <td></td>\n",
              "      <td>[]</td>\n",
              "      <td></td>\n",
              "    </tr>\n",
              "    <tr>\n",
              "      <th>1</th>\n",
              "      <td>https://twitter.com/ToddFPacker_/status/143647...</td>\n",
              "      <td>2021-09-10 23:59:09+00:00</td>\n",
              "      <td>@bigdeckbandit That said though, I am tremendo...</td>\n",
              "      <td>1436479389936594944</td>\n",
              "      <td>ToddFPacker_</td>\n",
              "      <td>[]</td>\n",
              "      <td></td>\n",
              "      <td>[]</td>\n",
              "      <td></td>\n",
              "    </tr>\n",
              "    <tr>\n",
              "      <th>2</th>\n",
              "      <td>https://twitter.com/supervaluemann/status/1436...</td>\n",
              "      <td>2021-09-10 23:58:44+00:00</td>\n",
              "      <td>Well damn that week was not the standard patte...</td>\n",
              "      <td>1436479286186332160</td>\n",
              "      <td>supervaluemann</td>\n",
              "      <td>[]</td>\n",
              "      <td></td>\n",
              "      <td>[]</td>\n",
              "      <td></td>\n",
              "    </tr>\n",
              "    <tr>\n",
              "      <th>3</th>\n",
              "      <td>https://twitter.com/DiscoverVincent/status/143...</td>\n",
              "      <td>2021-09-10 23:52:29+00:00</td>\n",
              "      <td>How are markets changing after meme stocks lik...</td>\n",
              "      <td>1436477712001114116</td>\n",
              "      <td>DiscoverVincent</td>\n",
              "      <td>[https://bit.ly/38XC0Yj]</td>\n",
              "      <td>https://bit.ly/38XC0Yj</td>\n",
              "      <td>[https://t.co/nEMNHeHbhG]</td>\n",
              "      <td>https://t.co/nEMNHeHbhG</td>\n",
              "    </tr>\n",
              "    <tr>\n",
              "      <th>4</th>\n",
              "      <td>https://twitter.com/HempPimps/status/143647656...</td>\n",
              "      <td>2021-09-10 23:47:55+00:00</td>\n",
              "      <td>Joe Biden Can No Longer Hide From Cannabis Leg...</td>\n",
              "      <td>1436476563005005824</td>\n",
              "      <td>HempPimps</td>\n",
              "      <td>[https://finance.yahoo.com/news/joe-biden-no-l...</td>\n",
              "      <td>https://finance.yahoo.com/news/joe-biden-no-lo...</td>\n",
              "      <td>[https://t.co/725DSiWqs5]</td>\n",
              "      <td>https://t.co/725DSiWqs5</td>\n",
              "    </tr>\n",
              "    <tr>\n",
              "      <th>...</th>\n",
              "      <td>...</td>\n",
              "      <td>...</td>\n",
              "      <td>...</td>\n",
              "      <td>...</td>\n",
              "      <td>...</td>\n",
              "      <td>...</td>\n",
              "      <td>...</td>\n",
              "      <td>...</td>\n",
              "      <td>...</td>\n",
              "    </tr>\n",
              "    <tr>\n",
              "      <th>1995</th>\n",
              "      <td>https://twitter.com/GorilIaHODL/status/1436074...</td>\n",
              "      <td>2021-09-09 21:10:09+00:00</td>\n",
              "      <td>$ATER $BBIG $AMC $GME @ORTEX @matt_kohrs \\nI d...</td>\n",
              "      <td>1436074472524566531</td>\n",
              "      <td>GorilIaHODL</td>\n",
              "      <td>[]</td>\n",
              "      <td></td>\n",
              "      <td>[]</td>\n",
              "      <td></td>\n",
              "    </tr>\n",
              "    <tr>\n",
              "      <th>1996</th>\n",
              "      <td>https://twitter.com/jakeyt420/status/143607428...</td>\n",
              "      <td>2021-09-09 21:09:24+00:00</td>\n",
              "      <td>@stonksarelife @cvpayne PlayStation press conf...</td>\n",
              "      <td>1436074281096593411</td>\n",
              "      <td>jakeyt420</td>\n",
              "      <td>[]</td>\n",
              "      <td></td>\n",
              "      <td>[]</td>\n",
              "      <td></td>\n",
              "    </tr>\n",
              "    <tr>\n",
              "      <th>1997</th>\n",
              "      <td>https://twitter.com/jukebawks1/status/14360742...</td>\n",
              "      <td>2021-09-09 21:09:23+00:00</td>\n",
              "      <td>@GaryGensler please make room for several thou...</td>\n",
              "      <td>1436074276650569745</td>\n",
              "      <td>jukebawks1</td>\n",
              "      <td>[]</td>\n",
              "      <td></td>\n",
              "      <td>[]</td>\n",
              "      <td></td>\n",
              "    </tr>\n",
              "    <tr>\n",
              "      <th>1998</th>\n",
              "      <td>https://twitter.com/ToddFPacker_/status/143607...</td>\n",
              "      <td>2021-09-09 21:09:14+00:00</td>\n",
              "      <td>@AMCtoMars @cvpayne Only if $GME does the #NFT...</td>\n",
              "      <td>1436074239837327361</td>\n",
              "      <td>ToddFPacker_</td>\n",
              "      <td>[]</td>\n",
              "      <td></td>\n",
              "      <td>[]</td>\n",
              "      <td></td>\n",
              "    </tr>\n",
              "    <tr>\n",
              "      <th>1999</th>\n",
              "      <td>https://twitter.com/kingfknkong/status/1436074...</td>\n",
              "      <td>2021-09-09 21:09:04+00:00</td>\n",
              "      <td>#GME they tried to make it look like Apes were...</td>\n",
              "      <td>1436074197365755909</td>\n",
              "      <td>kingfknkong</td>\n",
              "      <td>[]</td>\n",
              "      <td></td>\n",
              "      <td>[]</td>\n",
              "      <td></td>\n",
              "    </tr>\n",
              "  </tbody>\n",
              "</table>\n",
              "<p>2000 rows × 9 columns</p>\n",
              "</div>"
            ],
            "text/plain": [
              "                                                    url  ...            tcooutlinksss\n",
              "0     https://twitter.com/Oy11462180/status/14364795...  ...                         \n",
              "1     https://twitter.com/ToddFPacker_/status/143647...  ...                         \n",
              "2     https://twitter.com/supervaluemann/status/1436...  ...                         \n",
              "3     https://twitter.com/DiscoverVincent/status/143...  ...  https://t.co/nEMNHeHbhG\n",
              "4     https://twitter.com/HempPimps/status/143647656...  ...  https://t.co/725DSiWqs5\n",
              "...                                                 ...  ...                      ...\n",
              "1995  https://twitter.com/GorilIaHODL/status/1436074...  ...                         \n",
              "1996  https://twitter.com/jakeyt420/status/143607428...  ...                         \n",
              "1997  https://twitter.com/jukebawks1/status/14360742...  ...                         \n",
              "1998  https://twitter.com/ToddFPacker_/status/143607...  ...                         \n",
              "1999  https://twitter.com/kingfknkong/status/1436074...  ...                         \n",
              "\n",
              "[2000 rows x 9 columns]"
            ]
          },
          "metadata": {},
          "execution_count": 6
        }
      ]
    },
    {
      "cell_type": "code",
      "metadata": {
        "id": "TaYHEOc_Z-2j"
      },
      "source": [
        "from datetime import datetime  \n",
        "from datetime import timedelta "
      ],
      "execution_count": null,
      "outputs": []
    },
    {
      "cell_type": "code",
      "metadata": {
        "colab": {
          "base_uri": "https://localhost:8080/",
          "height": 35
        },
        "id": "C3v0qBkNa42T",
        "outputId": "f647d44a-8be3-4c22-fe2b-8782584f52b3"
      },
      "source": [
        "date.strftime('%Y-%m-%d')"
      ],
      "execution_count": null,
      "outputs": [
        {
          "output_type": "execute_result",
          "data": {
            "application/vnd.google.colaboratory.intrinsic+json": {
              "type": "string"
            },
            "text/plain": [
              "'2021-09-15'"
            ]
          },
          "metadata": {},
          "execution_count": 16
        }
      ]
    },
    {
      "cell_type": "code",
      "metadata": {
        "id": "KLQqzgP_b7GY"
      },
      "source": [
        "def new_search_by_keywords(keyword, start, end, tweet_limit):\n",
        "    '''\n",
        "    This is to search for tweets based on keywords, with location preset to Singapore. \n",
        "    Keywords: can be string or list \n",
        "    Date format: YYYY-MM-DD\n",
        "    '''\n",
        "    start_time = time.time()\n",
        "    scraped_tweets = sntwitter.TwitterSearchScraper(f'{keyword} since:{start} until:{end}').get_items()\n",
        "    sliced_scraped_tweets = itertools.islice(scraped_tweets, tweet_limit)\n",
        "    tweets_df = pd.DataFrame(sliced_scraped_tweets) #[['date', 'content']]\n",
        "\n",
        "    print('Time taken to run to scrape {} tweets: {}s'.format(len(tweets_df), time.time() - start_time))\n",
        "    return tweets_df"
      ],
      "execution_count": null,
      "outputs": []
    },
    {
      "cell_type": "code",
      "metadata": {
        "colab": {
          "base_uri": "https://localhost:8080/"
        },
        "id": "J2-oiZFUaoQC",
        "outputId": "29435264-65e6-4b04-9598-32c436134465"
      },
      "source": [
        "date = datetime(2021,9,15)\n",
        "for i in range(30):\n",
        "  start = date - timedelta(days = 1)\n",
        "  if (i == 0):\n",
        "    tweets_df = search_by_keywords('$GME', start.strftime('%Y-%m-%d'), date.strftime('%Y-%m-%d'), 5)\n",
        "  else:\n",
        "    print(\"start date is \", start.strftime('%Y-%m-%d'))\n",
        "    print(\"end date is \", date.strftime('%Y-%m-%d'))\n",
        "    temp = search_by_keywords('$GME', start.strftime('%Y-%m-%d'), date.strftime('%Y-%m-%d'), 5)\n",
        "    tweets_df.append(temp)\n",
        "  date = start"
      ],
      "execution_count": null,
      "outputs": [
        {
          "output_type": "stream",
          "name": "stdout",
          "text": [
            "Time taken to run to scrape 5 tweets: 0.566051721572876s\n",
            "start date is  2021-09-13\n",
            "end date is  2021-09-14\n",
            "Time taken to run to scrape 5 tweets: 0.7223424911499023s\n",
            "start date is  2021-09-12\n",
            "end date is  2021-09-13\n",
            "Time taken to run to scrape 5 tweets: 0.6588561534881592s\n",
            "start date is  2021-09-11\n",
            "end date is  2021-09-12\n",
            "Time taken to run to scrape 5 tweets: 0.5986156463623047s\n",
            "start date is  2021-09-10\n",
            "end date is  2021-09-11\n",
            "Time taken to run to scrape 5 tweets: 0.6241984367370605s\n",
            "start date is  2021-09-09\n",
            "end date is  2021-09-10\n",
            "Time taken to run to scrape 5 tweets: 0.6460461616516113s\n",
            "start date is  2021-09-08\n",
            "end date is  2021-09-09\n",
            "Time taken to run to scrape 5 tweets: 0.5178332328796387s\n",
            "start date is  2021-09-07\n",
            "end date is  2021-09-08\n",
            "Time taken to run to scrape 5 tweets: 0.567420482635498s\n",
            "start date is  2021-09-06\n",
            "end date is  2021-09-07\n",
            "Time taken to run to scrape 5 tweets: 0.6160802841186523s\n",
            "start date is  2021-09-05\n",
            "end date is  2021-09-06\n",
            "Time taken to run to scrape 5 tweets: 0.7085793018341064s\n",
            "start date is  2021-09-04\n",
            "end date is  2021-09-05\n",
            "Time taken to run to scrape 5 tweets: 0.6545255184173584s\n",
            "start date is  2021-09-03\n",
            "end date is  2021-09-04\n",
            "Time taken to run to scrape 5 tweets: 0.5578792095184326s\n",
            "start date is  2021-09-02\n",
            "end date is  2021-09-03\n",
            "Time taken to run to scrape 5 tweets: 0.6714475154876709s\n",
            "start date is  2021-09-01\n",
            "end date is  2021-09-02\n",
            "Time taken to run to scrape 5 tweets: 0.6159360408782959s\n",
            "start date is  2021-08-31\n",
            "end date is  2021-09-01\n",
            "Time taken to run to scrape 5 tweets: 0.5978107452392578s\n",
            "start date is  2021-08-30\n",
            "end date is  2021-08-31\n",
            "Time taken to run to scrape 5 tweets: 0.6122989654541016s\n",
            "start date is  2021-08-29\n",
            "end date is  2021-08-30\n",
            "Time taken to run to scrape 5 tweets: 0.7026424407958984s\n",
            "start date is  2021-08-28\n",
            "end date is  2021-08-29\n",
            "Time taken to run to scrape 5 tweets: 0.6098361015319824s\n",
            "start date is  2021-08-27\n",
            "end date is  2021-08-28\n",
            "Time taken to run to scrape 5 tweets: 0.599769115447998s\n",
            "start date is  2021-08-26\n",
            "end date is  2021-08-27\n",
            "Time taken to run to scrape 5 tweets: 0.6268155574798584s\n",
            "start date is  2021-08-25\n",
            "end date is  2021-08-26\n",
            "Time taken to run to scrape 5 tweets: 0.6595439910888672s\n",
            "start date is  2021-08-24\n",
            "end date is  2021-08-25\n",
            "Time taken to run to scrape 5 tweets: 0.612468957901001s\n",
            "start date is  2021-08-23\n",
            "end date is  2021-08-24\n",
            "Time taken to run to scrape 5 tweets: 0.6267471313476562s\n",
            "start date is  2021-08-22\n",
            "end date is  2021-08-23\n",
            "Time taken to run to scrape 5 tweets: 0.578970193862915s\n",
            "start date is  2021-08-21\n",
            "end date is  2021-08-22\n",
            "Time taken to run to scrape 5 tweets: 0.5848343372344971s\n",
            "start date is  2021-08-20\n",
            "end date is  2021-08-21\n",
            "Time taken to run to scrape 5 tweets: 0.5587117671966553s\n",
            "start date is  2021-08-19\n",
            "end date is  2021-08-20\n",
            "Time taken to run to scrape 5 tweets: 0.6048727035522461s\n",
            "start date is  2021-08-18\n",
            "end date is  2021-08-19\n",
            "Time taken to run to scrape 5 tweets: 0.6485018730163574s\n",
            "start date is  2021-08-17\n",
            "end date is  2021-08-18\n",
            "Time taken to run to scrape 5 tweets: 0.6490340232849121s\n",
            "start date is  2021-08-16\n",
            "end date is  2021-08-17\n",
            "Time taken to run to scrape 5 tweets: 0.6131811141967773s\n"
          ]
        }
      ]
    },
    {
      "cell_type": "code",
      "metadata": {
        "colab": {
          "base_uri": "https://localhost:8080/",
          "height": 204
        },
        "id": "LCMMoWKKap3G",
        "outputId": "a8b189d2-f5f6-436d-d5b4-6efff1f4b4a1"
      },
      "source": [
        "tweets_df"
      ],
      "execution_count": null,
      "outputs": [
        {
          "output_type": "execute_result",
          "data": {
            "text/html": [
              "<div>\n",
              "<style scoped>\n",
              "    .dataframe tbody tr th:only-of-type {\n",
              "        vertical-align: middle;\n",
              "    }\n",
              "\n",
              "    .dataframe tbody tr th {\n",
              "        vertical-align: top;\n",
              "    }\n",
              "\n",
              "    .dataframe thead th {\n",
              "        text-align: right;\n",
              "    }\n",
              "</style>\n",
              "<table border=\"1\" class=\"dataframe\">\n",
              "  <thead>\n",
              "    <tr style=\"text-align: right;\">\n",
              "      <th></th>\n",
              "      <th>url</th>\n",
              "      <th>date</th>\n",
              "      <th>content</th>\n",
              "      <th>id</th>\n",
              "      <th>username</th>\n",
              "      <th>outlinks</th>\n",
              "      <th>outlinksss</th>\n",
              "      <th>tcooutlinks</th>\n",
              "      <th>tcooutlinksss</th>\n",
              "    </tr>\n",
              "  </thead>\n",
              "  <tbody>\n",
              "    <tr>\n",
              "      <th>0</th>\n",
              "      <td>https://twitter.com/DickTugging/status/1437928...</td>\n",
              "      <td>2021-09-14 23:58:50+00:00</td>\n",
              "      <td>To the $AMC &amp;amp; $GME veterans helping folks ...</td>\n",
              "      <td>1437928860331413510</td>\n",
              "      <td>DickTugging</td>\n",
              "      <td>[]</td>\n",
              "      <td></td>\n",
              "      <td>[]</td>\n",
              "      <td></td>\n",
              "    </tr>\n",
              "    <tr>\n",
              "      <th>1</th>\n",
              "      <td>https://twitter.com/StookTradina/status/143792...</td>\n",
              "      <td>2021-09-14 23:58:43+00:00</td>\n",
              "      <td>$AMC and $GME are the best stocks to hold. If ...</td>\n",
              "      <td>1437928830149218304</td>\n",
              "      <td>StookTradina</td>\n",
              "      <td>[]</td>\n",
              "      <td></td>\n",
              "      <td>[]</td>\n",
              "      <td></td>\n",
              "    </tr>\n",
              "    <tr>\n",
              "      <th>2</th>\n",
              "      <td>https://twitter.com/Richard21321922/status/143...</td>\n",
              "      <td>2021-09-14 23:58:26+00:00</td>\n",
              "      <td>@UnhedgedApp All in $GME</td>\n",
              "      <td>1437928761002008578</td>\n",
              "      <td>Richard21321922</td>\n",
              "      <td>[]</td>\n",
              "      <td></td>\n",
              "      <td>[]</td>\n",
              "      <td></td>\n",
              "    </tr>\n",
              "    <tr>\n",
              "      <th>3</th>\n",
              "      <td>https://twitter.com/TJ65254258/status/14379282...</td>\n",
              "      <td>2021-09-14 23:56:23+00:00</td>\n",
              "      <td>We are coming Kenney! We are coming! $AMC $GME...</td>\n",
              "      <td>1437928244272144387</td>\n",
              "      <td>TJ65254258</td>\n",
              "      <td>[]</td>\n",
              "      <td></td>\n",
              "      <td>[]</td>\n",
              "      <td></td>\n",
              "    </tr>\n",
              "    <tr>\n",
              "      <th>4</th>\n",
              "      <td>https://twitter.com/Charlie1337420/status/1437...</td>\n",
              "      <td>2021-09-14 23:56:13+00:00</td>\n",
              "      <td>@WychKyle Wait, you guys are long $gme?</td>\n",
              "      <td>1437928201448210435</td>\n",
              "      <td>Charlie1337420</td>\n",
              "      <td>[]</td>\n",
              "      <td></td>\n",
              "      <td>[]</td>\n",
              "      <td></td>\n",
              "    </tr>\n",
              "  </tbody>\n",
              "</table>\n",
              "</div>"
            ],
            "text/plain": [
              "                                                 url  ... tcooutlinksss\n",
              "0  https://twitter.com/DickTugging/status/1437928...  ...              \n",
              "1  https://twitter.com/StookTradina/status/143792...  ...              \n",
              "2  https://twitter.com/Richard21321922/status/143...  ...              \n",
              "3  https://twitter.com/TJ65254258/status/14379282...  ...              \n",
              "4  https://twitter.com/Charlie1337420/status/1437...  ...              \n",
              "\n",
              "[5 rows x 9 columns]"
            ]
          },
          "metadata": {},
          "execution_count": 26
        }
      ]
    },
    {
      "cell_type": "code",
      "metadata": {
        "id": "JnVSHxuRcuth"
      },
      "source": [
        "def search_by_keywords_date(year, month, day, period, keywords, N):\n",
        "  date = datetime(year,month,day)\n",
        "  for i in range(period):\n",
        "    start = date - timedelta(days = 1)\n",
        "    if (i == 0):\n",
        "      print(\"start date is \", start.strftime('%Y-%m-%d'))\n",
        "      print(\"end date is \", date.strftime('%Y-%m-%d'))\n",
        "      tweets_df = search_by_keywords(keywords, start.strftime('%Y-%m-%d'), date.strftime('%Y-%m-%d'), N)\n",
        "    else:\n",
        "      print(\"start date is \", start.strftime('%Y-%m-%d'))\n",
        "      print(\"end date is \", date.strftime('%Y-%m-%d'))\n",
        "      temp = search_by_keywords(keywords, start.strftime('%Y-%m-%d'), date.strftime('%Y-%m-%d'), N)\n",
        "      tweets_df = tweets_df.append(temp, ignore_index = True)\n",
        "    date = start\n",
        "  return tweets_df"
      ],
      "execution_count": null,
      "outputs": []
    },
    {
      "cell_type": "code",
      "metadata": {
        "colab": {
          "base_uri": "https://localhost:8080/"
        },
        "id": "ne1gX_vgeHgc",
        "outputId": "fb7d1b43-e179-4c8e-b582-7cbe5683905d"
      },
      "source": [
        "gme = search_by_keywords_date(2021, 9, 19, 31, '$GME', 2000)"
      ],
      "execution_count": null,
      "outputs": [
        {
          "output_type": "stream",
          "name": "stdout",
          "text": [
            "start date is  2021-09-18\n",
            "end date is  2021-09-19\n",
            "Time taken to run to scrape 607 tweets: 12.537758588790894s\n",
            "start date is  2021-09-17\n",
            "end date is  2021-09-18\n",
            "Time taken to run to scrape 1596 tweets: 32.41733908653259s\n",
            "start date is  2021-09-16\n",
            "end date is  2021-09-17\n",
            "Time taken to run to scrape 1786 tweets: 35.77177834510803s\n",
            "start date is  2021-09-15\n",
            "end date is  2021-09-16\n",
            "Time taken to run to scrape 1465 tweets: 28.43432593345642s\n",
            "start date is  2021-09-14\n",
            "end date is  2021-09-15\n",
            "Time taken to run to scrape 1608 tweets: 31.989868640899658s\n",
            "start date is  2021-09-13\n",
            "end date is  2021-09-14\n",
            "Time taken to run to scrape 1962 tweets: 38.21816968917847s\n",
            "start date is  2021-09-12\n",
            "end date is  2021-09-13\n",
            "Time taken to run to scrape 947 tweets: 18.858810424804688s\n",
            "start date is  2021-09-11\n",
            "end date is  2021-09-12\n",
            "Time taken to run to scrape 610 tweets: 12.302377223968506s\n",
            "start date is  2021-09-10\n",
            "end date is  2021-09-11\n",
            "Time taken to run to scrape 1650 tweets: 33.336737632751465s\n",
            "start date is  2021-09-09\n",
            "end date is  2021-09-10\n",
            "Time taken to run to scrape 2000 tweets: 36.49521017074585s\n",
            "start date is  2021-09-08\n",
            "end date is  2021-09-09\n",
            "Time taken to run to scrape 2000 tweets: 37.255475759506226s\n",
            "start date is  2021-09-07\n",
            "end date is  2021-09-08\n",
            "Time taken to run to scrape 1611 tweets: 30.52177143096924s\n",
            "start date is  2021-09-06\n",
            "end date is  2021-09-07\n",
            "Time taken to run to scrape 759 tweets: 16.839374542236328s\n",
            "start date is  2021-09-05\n",
            "end date is  2021-09-06\n",
            "Time taken to run to scrape 670 tweets: 13.805498361587524s\n",
            "start date is  2021-09-04\n",
            "end date is  2021-09-05\n",
            "Time taken to run to scrape 586 tweets: 12.355721473693848s\n",
            "start date is  2021-09-03\n",
            "end date is  2021-09-04\n",
            "Time taken to run to scrape 1613 tweets: 31.230757474899292s\n",
            "start date is  2021-09-02\n",
            "end date is  2021-09-03\n",
            "Time taken to run to scrape 1649 tweets: 32.29572010040283s\n",
            "start date is  2021-09-01\n",
            "end date is  2021-09-02\n",
            "Time taken to run to scrape 2000 tweets: 38.271358251571655s\n",
            "start date is  2021-08-31\n",
            "end date is  2021-09-01\n",
            "Time taken to run to scrape 1897 tweets: 36.1337788105011s\n",
            "start date is  2021-08-30\n",
            "end date is  2021-08-31\n",
            "Time taken to run to scrape 1880 tweets: 35.409467935562134s\n",
            "start date is  2021-08-29\n",
            "end date is  2021-08-30\n",
            "Time taken to run to scrape 840 tweets: 17.437001705169678s\n",
            "start date is  2021-08-28\n",
            "end date is  2021-08-29\n",
            "Time taken to run to scrape 672 tweets: 14.430003643035889s\n",
            "start date is  2021-08-27\n",
            "end date is  2021-08-28\n",
            "Time taken to run to scrape 1927 tweets: 36.00385522842407s\n",
            "start date is  2021-08-26\n",
            "end date is  2021-08-27\n",
            "Time taken to run to scrape 2000 tweets: 40.4774911403656s\n",
            "start date is  2021-08-25\n",
            "end date is  2021-08-26\n",
            "Time taken to run to scrape 2000 tweets: 37.532172441482544s\n",
            "start date is  2021-08-24\n",
            "end date is  2021-08-25\n",
            "Time taken to run to scrape 2000 tweets: 37.212204933166504s\n",
            "start date is  2021-08-23\n",
            "end date is  2021-08-24\n",
            "Time taken to run to scrape 1186 tweets: 24.352480173110962s\n",
            "start date is  2021-08-22\n",
            "end date is  2021-08-23\n",
            "Time taken to run to scrape 595 tweets: 12.48644733428955s\n",
            "start date is  2021-08-21\n",
            "end date is  2021-08-22\n",
            "Time taken to run to scrape 543 tweets: 10.447209358215332s\n",
            "start date is  2021-08-20\n",
            "end date is  2021-08-21\n",
            "Time taken to run to scrape 1177 tweets: 24.102895498275757s\n",
            "start date is  2021-08-19\n",
            "end date is  2021-08-20\n",
            "Time taken to run to scrape 1306 tweets: 26.884397983551025s\n"
          ]
        }
      ]
    },
    {
      "cell_type": "code",
      "metadata": {
        "id": "ZgkH7pLCSYZ_"
      },
      "source": [
        "gme.to_csv(\"gme.csv\")"
      ],
      "execution_count": null,
      "outputs": []
    },
    {
      "cell_type": "code",
      "metadata": {
        "colab": {
          "base_uri": "https://localhost:8080/",
          "height": 762
        },
        "id": "QrEUTsPUTMGA",
        "outputId": "c5d9bfa2-6374-4336-9946-28516c518d86"
      },
      "source": [
        "gme"
      ],
      "execution_count": null,
      "outputs": [
        {
          "output_type": "execute_result",
          "data": {
            "text/html": [
              "<div>\n",
              "<style scoped>\n",
              "    .dataframe tbody tr th:only-of-type {\n",
              "        vertical-align: middle;\n",
              "    }\n",
              "\n",
              "    .dataframe tbody tr th {\n",
              "        vertical-align: top;\n",
              "    }\n",
              "\n",
              "    .dataframe thead th {\n",
              "        text-align: right;\n",
              "    }\n",
              "</style>\n",
              "<table border=\"1\" class=\"dataframe\">\n",
              "  <thead>\n",
              "    <tr style=\"text-align: right;\">\n",
              "      <th></th>\n",
              "      <th>url</th>\n",
              "      <th>date</th>\n",
              "      <th>content</th>\n",
              "      <th>id</th>\n",
              "      <th>username</th>\n",
              "      <th>outlinks</th>\n",
              "      <th>outlinksss</th>\n",
              "      <th>tcooutlinks</th>\n",
              "      <th>tcooutlinksss</th>\n",
              "    </tr>\n",
              "  </thead>\n",
              "  <tbody>\n",
              "    <tr>\n",
              "      <th>0</th>\n",
              "      <td>https://twitter.com/GME38517580/status/1439377...</td>\n",
              "      <td>2021-09-18 23:56:45+00:00</td>\n",
              "      <td>@SusanneTrimbath confirms that DRS protects yo...</td>\n",
              "      <td>1439377888793534472</td>\n",
              "      <td>GME38517580</td>\n",
              "      <td>[]</td>\n",
              "      <td></td>\n",
              "      <td>[]</td>\n",
              "      <td></td>\n",
              "    </tr>\n",
              "    <tr>\n",
              "      <th>1</th>\n",
              "      <td>https://twitter.com/GorillaTrading/status/1439...</td>\n",
              "      <td>2021-09-18 23:53:47+00:00</td>\n",
              "      <td>Aggressive/Volatile high SI short squeeze stoc...</td>\n",
              "      <td>1439377140185763840</td>\n",
              "      <td>GorillaTrading</td>\n",
              "      <td>[]</td>\n",
              "      <td></td>\n",
              "      <td>[]</td>\n",
              "      <td></td>\n",
              "    </tr>\n",
              "    <tr>\n",
              "      <th>2</th>\n",
              "      <td>https://twitter.com/TradersColony/status/14393...</td>\n",
              "      <td>2021-09-18 23:50:11+00:00</td>\n",
              "      <td>SpaceX's private Inspiration4 mission splashes...</td>\n",
              "      <td>1439376234513899527</td>\n",
              "      <td>TradersColony</td>\n",
              "      <td>[https://www.reddit.com/r/traders_colony/comme...</td>\n",
              "      <td>https://www.reddit.com/r/traders_colony/commen...</td>\n",
              "      <td>[https://t.co/G9QL4mOtU7]</td>\n",
              "      <td>https://t.co/G9QL4mOtU7</td>\n",
              "    </tr>\n",
              "    <tr>\n",
              "      <th>3</th>\n",
              "      <td>https://twitter.com/Right__Stocks/status/14393...</td>\n",
              "      <td>2021-09-18 23:50:00+00:00</td>\n",
              "      <td>$mara $sklz $tsla $opti $srne $coin $fubo $mvi...</td>\n",
              "      <td>1439376188065992707</td>\n",
              "      <td>Right__Stocks</td>\n",
              "      <td>[]</td>\n",
              "      <td></td>\n",
              "      <td>[]</td>\n",
              "      <td></td>\n",
              "    </tr>\n",
              "    <tr>\n",
              "      <th>4</th>\n",
              "      <td>https://twitter.com/ConckordDawn/status/143937...</td>\n",
              "      <td>2021-09-18 23:48:38+00:00</td>\n",
              "      <td>@jimcramer $AMC $GME next stop.</td>\n",
              "      <td>1439375844112142337</td>\n",
              "      <td>ConckordDawn</td>\n",
              "      <td>[]</td>\n",
              "      <td></td>\n",
              "      <td>[]</td>\n",
              "      <td></td>\n",
              "    </tr>\n",
              "    <tr>\n",
              "      <th>...</th>\n",
              "      <td>...</td>\n",
              "      <td>...</td>\n",
              "      <td>...</td>\n",
              "      <td>...</td>\n",
              "      <td>...</td>\n",
              "      <td>...</td>\n",
              "      <td>...</td>\n",
              "      <td>...</td>\n",
              "      <td>...</td>\n",
              "    </tr>\n",
              "    <tr>\n",
              "      <th>43137</th>\n",
              "      <td>https://twitter.com/InZaneViews/status/1428145...</td>\n",
              "      <td>2021-08-19 00:02:08+00:00</td>\n",
              "      <td>Almost half of his likes\\n\\nMy best tweet to d...</td>\n",
              "      <td>1428145220273725441</td>\n",
              "      <td>InZaneViews</td>\n",
              "      <td>[]</td>\n",
              "      <td></td>\n",
              "      <td>[]</td>\n",
              "      <td></td>\n",
              "    </tr>\n",
              "    <tr>\n",
              "      <th>43138</th>\n",
              "      <td>https://twitter.com/TylerDurden103/status/1428...</td>\n",
              "      <td>2021-08-19 00:01:58+00:00</td>\n",
              "      <td>Why the fuck is a company like @disney holding...</td>\n",
              "      <td>1428145178162905098</td>\n",
              "      <td>TylerDurden103</td>\n",
              "      <td>[]</td>\n",
              "      <td></td>\n",
              "      <td>[]</td>\n",
              "      <td></td>\n",
              "    </tr>\n",
              "    <tr>\n",
              "      <th>43139</th>\n",
              "      <td>https://twitter.com/bertcarrier/status/1428144...</td>\n",
              "      <td>2021-08-19 00:00:38+00:00</td>\n",
              "      <td>@btaylor that $GME stock would crater.  That c...</td>\n",
              "      <td>1428144841356087297</td>\n",
              "      <td>bertcarrier</td>\n",
              "      <td>[]</td>\n",
              "      <td></td>\n",
              "      <td>[]</td>\n",
              "      <td></td>\n",
              "    </tr>\n",
              "    <tr>\n",
              "      <th>43140</th>\n",
              "      <td>https://twitter.com/anabelmtz86/status/1428144...</td>\n",
              "      <td>2021-08-19 00:00:31+00:00</td>\n",
              "      <td>Can’t wait to see my co-workers after #MOASS a...</td>\n",
              "      <td>1428144810490216452</td>\n",
              "      <td>anabelmtz86</td>\n",
              "      <td>[]</td>\n",
              "      <td></td>\n",
              "      <td>[]</td>\n",
              "      <td></td>\n",
              "    </tr>\n",
              "    <tr>\n",
              "      <th>43141</th>\n",
              "      <td>https://twitter.com/Right__Stocks/status/14281...</td>\n",
              "      <td>2021-08-19 00:00:01+00:00</td>\n",
              "      <td>$penn $mara $fsr $tsla $opti $spy $aapl $pltr ...</td>\n",
              "      <td>1428144686661705731</td>\n",
              "      <td>Right__Stocks</td>\n",
              "      <td>[]</td>\n",
              "      <td></td>\n",
              "      <td>[]</td>\n",
              "      <td></td>\n",
              "    </tr>\n",
              "  </tbody>\n",
              "</table>\n",
              "<p>43142 rows × 9 columns</p>\n",
              "</div>"
            ],
            "text/plain": [
              "                                                     url  ...            tcooutlinksss\n",
              "0      https://twitter.com/GME38517580/status/1439377...  ...                         \n",
              "1      https://twitter.com/GorillaTrading/status/1439...  ...                         \n",
              "2      https://twitter.com/TradersColony/status/14393...  ...  https://t.co/G9QL4mOtU7\n",
              "3      https://twitter.com/Right__Stocks/status/14393...  ...                         \n",
              "4      https://twitter.com/ConckordDawn/status/143937...  ...                         \n",
              "...                                                  ...  ...                      ...\n",
              "43137  https://twitter.com/InZaneViews/status/1428145...  ...                         \n",
              "43138  https://twitter.com/TylerDurden103/status/1428...  ...                         \n",
              "43139  https://twitter.com/bertcarrier/status/1428144...  ...                         \n",
              "43140  https://twitter.com/anabelmtz86/status/1428144...  ...                         \n",
              "43141  https://twitter.com/Right__Stocks/status/14281...  ...                         \n",
              "\n",
              "[43142 rows x 9 columns]"
            ]
          },
          "metadata": {},
          "execution_count": 9
        }
      ]
    },
    {
      "cell_type": "code",
      "metadata": {
        "colab": {
          "base_uri": "https://localhost:8080/"
        },
        "id": "PVV1ebTleey8",
        "outputId": "1299128b-a51c-4ff9-db30-cad5e92abc38"
      },
      "source": [
        "amc = search_by_keywords_date(2021, 9, 19, 31, '$AMC', 2000)"
      ],
      "execution_count": null,
      "outputs": [
        {
          "output_type": "stream",
          "name": "stdout",
          "text": [
            "start date is  2021-09-18\n",
            "end date is  2021-09-19\n",
            "Time taken to run to scrape 2000 tweets: 36.420459508895874s\n",
            "start date is  2021-09-17\n",
            "end date is  2021-09-18\n",
            "Time taken to run to scrape 2000 tweets: 39.24440121650696s\n",
            "start date is  2021-09-16\n",
            "end date is  2021-09-17\n",
            "Time taken to run to scrape 2000 tweets: 39.81309413909912s\n",
            "start date is  2021-09-15\n",
            "end date is  2021-09-16\n",
            "Time taken to run to scrape 2000 tweets: 38.93234658241272s\n",
            "start date is  2021-09-14\n",
            "end date is  2021-09-15\n",
            "Time taken to run to scrape 2000 tweets: 38.90409517288208s\n",
            "start date is  2021-09-13\n",
            "end date is  2021-09-14\n",
            "Time taken to run to scrape 2000 tweets: 37.46433711051941s\n",
            "start date is  2021-09-12\n",
            "end date is  2021-09-13\n",
            "Time taken to run to scrape 2000 tweets: 37.50987529754639s\n",
            "start date is  2021-09-11\n",
            "end date is  2021-09-12\n",
            "Time taken to run to scrape 2000 tweets: 37.006887435913086s\n",
            "start date is  2021-09-10\n",
            "end date is  2021-09-11\n",
            "Time taken to run to scrape 2000 tweets: 37.77094769477844s\n",
            "start date is  2021-09-09\n",
            "end date is  2021-09-10\n",
            "Time taken to run to scrape 2000 tweets: 36.92325139045715s\n",
            "start date is  2021-09-08\n",
            "end date is  2021-09-09\n",
            "Time taken to run to scrape 2000 tweets: 36.90926265716553s\n",
            "start date is  2021-09-07\n",
            "end date is  2021-09-08\n",
            "Time taken to run to scrape 2000 tweets: 37.99405908584595s\n",
            "start date is  2021-09-06\n",
            "end date is  2021-09-07\n",
            "Time taken to run to scrape 2000 tweets: 40.16179323196411s\n",
            "start date is  2021-09-05\n",
            "end date is  2021-09-06\n",
            "Time taken to run to scrape 1689 tweets: 35.08667850494385s\n",
            "start date is  2021-09-04\n",
            "end date is  2021-09-05\n",
            "Time taken to run to scrape 1936 tweets: 37.55774807929993s\n",
            "start date is  2021-09-03\n",
            "end date is  2021-09-04\n",
            "Time taken to run to scrape 2000 tweets: 38.80531930923462s\n",
            "start date is  2021-09-02\n",
            "end date is  2021-09-03\n",
            "Time taken to run to scrape 2000 tweets: 37.28985929489136s\n",
            "start date is  2021-09-01\n",
            "end date is  2021-09-02\n",
            "Time taken to run to scrape 2000 tweets: 38.16419863700867s\n",
            "start date is  2021-08-31\n",
            "end date is  2021-09-01\n",
            "Time taken to run to scrape 2000 tweets: 37.26576519012451s\n",
            "start date is  2021-08-30\n",
            "end date is  2021-08-31\n",
            "Time taken to run to scrape 2000 tweets: 36.60399389266968s\n",
            "start date is  2021-08-29\n",
            "end date is  2021-08-30\n",
            "Time taken to run to scrape 1872 tweets: 35.91330170631409s\n",
            "start date is  2021-08-28\n",
            "end date is  2021-08-29\n",
            "Time taken to run to scrape 1411 tweets: 28.003469705581665s\n",
            "start date is  2021-08-27\n",
            "end date is  2021-08-28\n",
            "Time taken to run to scrape 2000 tweets: 37.649773597717285s\n",
            "start date is  2021-08-26\n",
            "end date is  2021-08-27\n",
            "Time taken to run to scrape 2000 tweets: 38.1480348110199s\n",
            "start date is  2021-08-25\n",
            "end date is  2021-08-26\n"
          ]
        },
        {
          "output_type": "stream",
          "name": "stderr",
          "text": [
            "Error retrieving https://api.twitter.com/2/search/adaptive.json?include_profile_interstitial_type=1&include_blocking=1&include_blocked_by=1&include_followed_by=1&include_want_retweets=1&include_mute_edge=1&include_can_dm=1&include_can_media_tag=1&skip_status=1&cards_platform=Web-12&include_cards=1&include_composer_source=true&include_ext_alt_text=true&include_reply_count=1&tweet_mode=extended&include_entities=true&include_user_entities=true&include_ext_media_color=true&include_ext_media_availability=true&send_error_codes=true&simple_quoted_tweets=true&q=%24AMC+since%3A2021-08-25+until%3A2021-08-26&tweet_search_mode=live&count=100&query_source=spelling_expansion_revert_click&cursor=scroll%3AthGAVUV0VFVBaAgLPpiN6_2icWgMC-obnH5tonEnEVkP53FYCJehgEVVNFUjUBFaoBFQAA&pc=1&spelling_corrections=1&ext=mediaStats%252CcameraMoment: ConnectionError(ProtocolError('Connection aborted.', ConnectionResetError(104, 'Connection reset by peer'))), retrying\n"
          ]
        },
        {
          "output_type": "stream",
          "name": "stdout",
          "text": [
            "Time taken to run to scrape 2000 tweets: 38.89080238342285s\n",
            "start date is  2021-08-24\n",
            "end date is  2021-08-25\n",
            "Time taken to run to scrape 2000 tweets: 36.7243857383728s\n",
            "start date is  2021-08-23\n",
            "end date is  2021-08-24\n",
            "Time taken to run to scrape 2000 tweets: 37.60451006889343s\n",
            "start date is  2021-08-22\n",
            "end date is  2021-08-23\n",
            "Time taken to run to scrape 1580 tweets: 30.659409523010254s\n",
            "start date is  2021-08-21\n",
            "end date is  2021-08-22\n",
            "Time taken to run to scrape 1497 tweets: 30.742382049560547s\n",
            "start date is  2021-08-20\n",
            "end date is  2021-08-21\n",
            "Time taken to run to scrape 2000 tweets: 37.26443004608154s\n",
            "start date is  2021-08-19\n",
            "end date is  2021-08-20\n",
            "Time taken to run to scrape 2000 tweets: 39.83907175064087s\n"
          ]
        }
      ]
    },
    {
      "cell_type": "code",
      "metadata": {
        "id": "6ZVrpnXmp-gJ"
      },
      "source": [
        "amc.to_csv(\"amc.csv\")"
      ],
      "execution_count": null,
      "outputs": []
    },
    {
      "cell_type": "code",
      "metadata": {
        "id": "oNraR2_LnNMJ",
        "colab": {
          "base_uri": "https://localhost:8080/"
        },
        "outputId": "3613c8f9-616d-440f-c85c-8a9bb44d3df4"
      },
      "source": [
        "mvis = search_by_keywords_date(2021, 9, 19, 31, '$MVIS', 2000)"
      ],
      "execution_count": null,
      "outputs": [
        {
          "output_type": "stream",
          "name": "stdout",
          "text": [
            "start date is  2021-09-18\n",
            "end date is  2021-09-19\n",
            "Time taken to run to scrape 47 tweets: 1.1649060249328613s\n",
            "start date is  2021-09-17\n",
            "end date is  2021-09-18\n",
            "Time taken to run to scrape 110 tweets: 2.3627734184265137s\n",
            "start date is  2021-09-16\n",
            "end date is  2021-09-17\n",
            "Time taken to run to scrape 105 tweets: 2.1256954669952393s\n",
            "start date is  2021-09-15\n",
            "end date is  2021-09-16\n",
            "Time taken to run to scrape 78 tweets: 2.0420191287994385s\n",
            "start date is  2021-09-14\n",
            "end date is  2021-09-15\n",
            "Time taken to run to scrape 95 tweets: 2.118727922439575s\n",
            "start date is  2021-09-13\n",
            "end date is  2021-09-14\n",
            "Time taken to run to scrape 114 tweets: 2.5286755561828613s\n",
            "start date is  2021-09-12\n",
            "end date is  2021-09-13\n",
            "Time taken to run to scrape 60 tweets: 1.6768367290496826s\n",
            "start date is  2021-09-11\n",
            "end date is  2021-09-12\n",
            "Time taken to run to scrape 30 tweets: 0.9851937294006348s\n",
            "start date is  2021-09-10\n",
            "end date is  2021-09-11\n",
            "Time taken to run to scrape 122 tweets: 2.7695319652557373s\n",
            "start date is  2021-09-09\n",
            "end date is  2021-09-10\n",
            "Time taken to run to scrape 121 tweets: 2.553778886795044s\n",
            "start date is  2021-09-08\n",
            "end date is  2021-09-09\n",
            "Time taken to run to scrape 154 tweets: 3.0717570781707764s\n",
            "start date is  2021-09-07\n",
            "end date is  2021-09-08\n",
            "Time taken to run to scrape 149 tweets: 2.982635498046875s\n",
            "start date is  2021-09-06\n",
            "end date is  2021-09-07\n",
            "Time taken to run to scrape 78 tweets: 2.2660253047943115s\n",
            "start date is  2021-09-05\n",
            "end date is  2021-09-06\n",
            "Time taken to run to scrape 13 tweets: 0.5824320316314697s\n",
            "start date is  2021-09-04\n",
            "end date is  2021-09-05\n",
            "Time taken to run to scrape 12 tweets: 0.9537179470062256s\n",
            "start date is  2021-09-03\n",
            "end date is  2021-09-04\n",
            "Time taken to run to scrape 117 tweets: 2.583590030670166s\n",
            "start date is  2021-09-02\n",
            "end date is  2021-09-03\n",
            "Time taken to run to scrape 101 tweets: 2.107477903366089s\n",
            "start date is  2021-09-01\n",
            "end date is  2021-09-02\n",
            "Time taken to run to scrape 92 tweets: 2.194387912750244s\n",
            "start date is  2021-08-31\n",
            "end date is  2021-09-01\n",
            "Time taken to run to scrape 35 tweets: 1.1778559684753418s\n",
            "start date is  2021-08-30\n",
            "end date is  2021-08-31\n",
            "Time taken to run to scrape 98 tweets: 2.1409621238708496s\n",
            "start date is  2021-08-29\n",
            "end date is  2021-08-30\n",
            "Time taken to run to scrape 69 tweets: 1.5221524238586426s\n",
            "start date is  2021-08-28\n",
            "end date is  2021-08-29\n",
            "Time taken to run to scrape 56 tweets: 1.2582604885101318s\n",
            "start date is  2021-08-27\n",
            "end date is  2021-08-28\n",
            "Time taken to run to scrape 66 tweets: 1.8833074569702148s\n",
            "start date is  2021-08-26\n",
            "end date is  2021-08-27\n",
            "Time taken to run to scrape 82 tweets: 2.0258848667144775s\n",
            "start date is  2021-08-25\n",
            "end date is  2021-08-26\n",
            "Time taken to run to scrape 112 tweets: 2.4903838634490967s\n",
            "start date is  2021-08-24\n",
            "end date is  2021-08-25\n",
            "Time taken to run to scrape 122 tweets: 2.487154960632324s\n",
            "start date is  2021-08-23\n",
            "end date is  2021-08-24\n",
            "Time taken to run to scrape 111 tweets: 2.1407716274261475s\n",
            "start date is  2021-08-22\n",
            "end date is  2021-08-23\n",
            "Time taken to run to scrape 51 tweets: 1.1152207851409912s\n",
            "start date is  2021-08-21\n",
            "end date is  2021-08-22\n",
            "Time taken to run to scrape 14 tweets: 0.5473096370697021s\n",
            "start date is  2021-08-20\n",
            "end date is  2021-08-21\n",
            "Time taken to run to scrape 84 tweets: 1.8557872772216797s\n",
            "start date is  2021-08-19\n",
            "end date is  2021-08-20\n",
            "Time taken to run to scrape 66 tweets: 1.4951839447021484s\n"
          ]
        }
      ]
    },
    {
      "cell_type": "code",
      "metadata": {
        "id": "LOpYFyygqAwN"
      },
      "source": [
        "mvis.to_csv(\"mvis.csv\")"
      ],
      "execution_count": null,
      "outputs": []
    },
    {
      "cell_type": "code",
      "metadata": {
        "colab": {
          "base_uri": "https://localhost:8080/"
        },
        "id": "pyuv1t7QOuPL",
        "outputId": "a502869a-506b-411f-be1a-b44fae9d9b2c"
      },
      "source": [
        "sndl = search_by_keywords_date(2021, 9, 19, 31, '$SNDL', 2000)"
      ],
      "execution_count": null,
      "outputs": [
        {
          "output_type": "stream",
          "name": "stdout",
          "text": [
            "start date is  2021-09-18\n",
            "end date is  2021-09-19\n",
            "Time taken to run to scrape 74 tweets: 2.029853582382202s\n",
            "start date is  2021-09-17\n",
            "end date is  2021-09-18\n",
            "Time taken to run to scrape 179 tweets: 4.205289125442505s\n",
            "start date is  2021-09-16\n",
            "end date is  2021-09-17\n",
            "Time taken to run to scrape 252 tweets: 5.566129684448242s\n",
            "start date is  2021-09-15\n",
            "end date is  2021-09-16\n",
            "Time taken to run to scrape 183 tweets: 4.353611946105957s\n",
            "start date is  2021-09-14\n",
            "end date is  2021-09-15\n",
            "Time taken to run to scrape 198 tweets: 4.296933174133301s\n",
            "start date is  2021-09-13\n",
            "end date is  2021-09-14\n",
            "Time taken to run to scrape 296 tweets: 6.348439931869507s\n",
            "start date is  2021-09-12\n",
            "end date is  2021-09-13\n",
            "Time taken to run to scrape 80 tweets: 2.186126470565796s\n",
            "start date is  2021-09-11\n",
            "end date is  2021-09-12\n",
            "Time taken to run to scrape 42 tweets: 1.4446587562561035s\n",
            "start date is  2021-09-10\n",
            "end date is  2021-09-11\n",
            "Time taken to run to scrape 159 tweets: 3.6598024368286133s\n",
            "start date is  2021-09-09\n",
            "end date is  2021-09-10\n",
            "Time taken to run to scrape 188 tweets: 4.771175384521484s\n",
            "start date is  2021-09-08\n",
            "end date is  2021-09-09\n",
            "Time taken to run to scrape 226 tweets: 5.352234363555908s\n",
            "start date is  2021-09-07\n",
            "end date is  2021-09-08\n",
            "Time taken to run to scrape 232 tweets: 4.985599756240845s\n",
            "start date is  2021-09-06\n",
            "end date is  2021-09-07\n",
            "Time taken to run to scrape 97 tweets: 2.2500767707824707s\n",
            "start date is  2021-09-05\n",
            "end date is  2021-09-06\n",
            "Time taken to run to scrape 57 tweets: 1.953399896621704s\n",
            "start date is  2021-09-04\n",
            "end date is  2021-09-05\n",
            "Time taken to run to scrape 35 tweets: 1.1646714210510254s\n",
            "start date is  2021-09-03\n",
            "end date is  2021-09-04\n",
            "Time taken to run to scrape 221 tweets: 4.478508949279785s\n",
            "start date is  2021-09-02\n",
            "end date is  2021-09-03\n",
            "Time taken to run to scrape 293 tweets: 6.304423809051514s\n",
            "start date is  2021-09-01\n",
            "end date is  2021-09-02\n",
            "Time taken to run to scrape 272 tweets: 6.018123149871826s\n",
            "start date is  2021-08-31\n",
            "end date is  2021-09-01\n",
            "Time taken to run to scrape 315 tweets: 6.150839328765869s\n",
            "start date is  2021-08-30\n",
            "end date is  2021-08-31\n",
            "Time taken to run to scrape 211 tweets: 4.255075454711914s\n",
            "start date is  2021-08-29\n",
            "end date is  2021-08-30\n",
            "Time taken to run to scrape 78 tweets: 1.5828824043273926s\n",
            "start date is  2021-08-28\n",
            "end date is  2021-08-29\n",
            "Time taken to run to scrape 60 tweets: 1.2246277332305908s\n",
            "start date is  2021-08-27\n",
            "end date is  2021-08-28\n",
            "Time taken to run to scrape 127 tweets: 2.852609395980835s\n",
            "start date is  2021-08-26\n",
            "end date is  2021-08-27\n",
            "Time taken to run to scrape 203 tweets: 4.608295440673828s\n",
            "start date is  2021-08-25\n",
            "end date is  2021-08-26\n",
            "Time taken to run to scrape 263 tweets: 5.9043498039245605s\n",
            "start date is  2021-08-24\n",
            "end date is  2021-08-25\n",
            "Time taken to run to scrape 282 tweets: 6.105303049087524s\n",
            "start date is  2021-08-23\n",
            "end date is  2021-08-24\n",
            "Time taken to run to scrape 234 tweets: 4.974424123764038s\n",
            "start date is  2021-08-22\n",
            "end date is  2021-08-23\n",
            "Time taken to run to scrape 89 tweets: 1.7490742206573486s\n",
            "start date is  2021-08-21\n",
            "end date is  2021-08-22\n",
            "Time taken to run to scrape 46 tweets: 1.2044398784637451s\n",
            "start date is  2021-08-20\n",
            "end date is  2021-08-21\n",
            "Time taken to run to scrape 196 tweets: 4.118256568908691s\n",
            "start date is  2021-08-19\n",
            "end date is  2021-08-20\n",
            "Time taken to run to scrape 175 tweets: 3.6512863636016846s\n"
          ]
        }
      ]
    },
    {
      "cell_type": "code",
      "metadata": {
        "id": "tamT2XNdqGNy"
      },
      "source": [
        "sndl.to_csv(\"sndl.csv\")"
      ],
      "execution_count": null,
      "outputs": []
    },
    {
      "cell_type": "code",
      "metadata": {
        "colab": {
          "base_uri": "https://localhost:8080/"
        },
        "id": "56dPMWkHsfk5",
        "outputId": "807efc62-d72f-4a8a-be67-de0c9a46916f"
      },
      "source": [
        "bb = search_by_keywords_date(2021, 9, 19, 31, '$BB', 2000)"
      ],
      "execution_count": null,
      "outputs": [
        {
          "output_type": "stream",
          "name": "stdout",
          "text": [
            "start date is  2021-09-18\n",
            "end date is  2021-09-19\n",
            "Time taken to run to scrape 71 tweets: 1.800400733947754s\n",
            "start date is  2021-09-17\n",
            "end date is  2021-09-18\n",
            "Time taken to run to scrape 202 tweets: 4.748103618621826s\n",
            "start date is  2021-09-16\n",
            "end date is  2021-09-17\n",
            "Time taken to run to scrape 254 tweets: 6.3308775424957275s\n",
            "start date is  2021-09-15\n",
            "end date is  2021-09-16\n",
            "Time taken to run to scrape 179 tweets: 4.2169575691223145s\n",
            "start date is  2021-09-14\n",
            "end date is  2021-09-15\n",
            "Time taken to run to scrape 177 tweets: 4.392295837402344s\n",
            "start date is  2021-09-13\n",
            "end date is  2021-09-14\n",
            "Time taken to run to scrape 214 tweets: 4.92711329460144s\n",
            "start date is  2021-09-12\n",
            "end date is  2021-09-13\n",
            "Time taken to run to scrape 86 tweets: 2.171867847442627s\n",
            "start date is  2021-09-11\n",
            "end date is  2021-09-12\n",
            "Time taken to run to scrape 32 tweets: 1.4342083930969238s\n",
            "start date is  2021-09-10\n",
            "end date is  2021-09-11\n",
            "Time taken to run to scrape 153 tweets: 4.734166860580444s\n",
            "start date is  2021-09-09\n",
            "end date is  2021-09-10\n",
            "Time taken to run to scrape 321 tweets: 7.17249608039856s\n",
            "start date is  2021-09-08\n",
            "end date is  2021-09-09\n",
            "Time taken to run to scrape 224 tweets: 4.867411136627197s\n",
            "start date is  2021-09-07\n",
            "end date is  2021-09-08\n",
            "Time taken to run to scrape 249 tweets: 5.680832386016846s\n",
            "start date is  2021-09-06\n",
            "end date is  2021-09-07\n",
            "Time taken to run to scrape 91 tweets: 2.262752056121826s\n",
            "start date is  2021-09-05\n",
            "end date is  2021-09-06\n",
            "Time taken to run to scrape 87 tweets: 2.3514461517333984s\n",
            "start date is  2021-09-04\n",
            "end date is  2021-09-05\n",
            "Time taken to run to scrape 67 tweets: 2.224260091781616s\n",
            "start date is  2021-09-03\n",
            "end date is  2021-09-04\n",
            "Time taken to run to scrape 188 tweets: 4.2875425815582275s\n",
            "start date is  2021-09-02\n",
            "end date is  2021-09-03\n",
            "Time taken to run to scrape 295 tweets: 6.623073101043701s\n",
            "start date is  2021-09-01\n",
            "end date is  2021-09-02\n",
            "Time taken to run to scrape 415 tweets: 8.43371319770813s\n",
            "start date is  2021-08-31\n",
            "end date is  2021-09-01\n",
            "Time taken to run to scrape 346 tweets: 7.829160928726196s\n",
            "start date is  2021-08-30\n",
            "end date is  2021-08-31\n",
            "Time taken to run to scrape 381 tweets: 8.260678768157959s\n",
            "start date is  2021-08-29\n",
            "end date is  2021-08-30\n",
            "Time taken to run to scrape 148 tweets: 3.456179618835449s\n",
            "start date is  2021-08-28\n",
            "end date is  2021-08-29\n",
            "Time taken to run to scrape 126 tweets: 3.05383563041687s\n",
            "start date is  2021-08-27\n",
            "end date is  2021-08-28\n",
            "Time taken to run to scrape 488 tweets: 9.899303197860718s\n",
            "start date is  2021-08-26\n",
            "end date is  2021-08-27\n",
            "Time taken to run to scrape 399 tweets: 8.913307905197144s\n",
            "start date is  2021-08-25\n",
            "end date is  2021-08-26\n",
            "Time taken to run to scrape 689 tweets: 13.987339973449707s\n",
            "start date is  2021-08-24\n",
            "end date is  2021-08-25\n",
            "Time taken to run to scrape 713 tweets: 13.813148736953735s\n",
            "start date is  2021-08-23\n",
            "end date is  2021-08-24\n",
            "Time taken to run to scrape 191 tweets: 4.411426305770874s\n",
            "start date is  2021-08-22\n",
            "end date is  2021-08-23\n",
            "Time taken to run to scrape 82 tweets: 2.1732523441314697s\n",
            "start date is  2021-08-21\n",
            "end date is  2021-08-22\n",
            "Time taken to run to scrape 66 tweets: 1.6453144550323486s\n",
            "start date is  2021-08-20\n",
            "end date is  2021-08-21\n",
            "Time taken to run to scrape 160 tweets: 4.125832796096802s\n",
            "start date is  2021-08-19\n",
            "end date is  2021-08-20\n",
            "Time taken to run to scrape 208 tweets: 5.063746452331543s\n"
          ]
        }
      ]
    },
    {
      "cell_type": "code",
      "metadata": {
        "id": "F6M8wlmUwTgJ"
      },
      "source": [
        "bb.to_csv(\"bb.csv\")"
      ],
      "execution_count": null,
      "outputs": []
    },
    {
      "cell_type": "code",
      "metadata": {
        "id": "-0LC8uhU1QLE"
      },
      "source": [
        ""
      ],
      "execution_count": null,
      "outputs": []
    }
  ]
}